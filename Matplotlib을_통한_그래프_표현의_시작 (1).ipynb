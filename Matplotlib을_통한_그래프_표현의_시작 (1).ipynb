{
  "nbformat": 4,
  "nbformat_minor": 0,
  "metadata": {
    "colab": {
      "provenance": []
    },
    "kernelspec": {
      "name": "python3",
      "display_name": "Python 3"
    },
    "language_info": {
      "name": "python"
    }
  },
  "cells": [
    {
      "cell_type": "markdown",
      "source": [
        "# 모듈과 별칭의 필요성\n",
        "\n",
        "- **matplotlib**은 파이썬에서 가장 널리 쓰이는 시각화 라이브러리임  \n",
        "- 보통 줄여서 **mpl**이라 부르고, 그 안의 **pyplot 모듈**은 보통 **plt**라는 별칭으로 사용함  \n",
        "\n",
        "👉 왜 별칭을 쓸까?  \n",
        "- 코드가 짧아져서 **편리**함  \n",
        "- 다른 사람이 코드를 읽을 때 **가독성**이 좋아짐  "
      ],
      "metadata": {
        "id": "Shax7EBIWqeO"
      }
    },
    {
      "cell_type": "code",
      "execution_count": null,
      "metadata": {
        "id": "mGDMR-t9Vm8O"
      },
      "outputs": [],
      "source": [
        "# matplotlib 전체 라이브러리를 불러오기\n",
        "import matplotlib as mpl\n",
        "\n",
        "# pyplot 모듈을 plt라는 이름으로 불러오기\n",
        "import matplotlib.pyplot as plt"
      ]
    },
    {
      "cell_type": "markdown",
      "source": [
        "# 기본 그래프 그리기\n",
        "\n",
        "- `plt.plot([1, 2, 3, 4])`  \n",
        "  → y 값은 `[1, 2, 3, 4]`  \n",
        "  → x 값은 생략 가능, 자동으로 `[0, 1, 2, 3]`이 설정됨  \n",
        "\n",
        "즉, 아래 두 코드는 같은 의미임:  \n",
        "- `plt.plot([1, 2, 3, 4])`  \n",
        "- `plt.plot([0, 1, 2, 3], [1, 2, 3, 4])`  "
      ],
      "metadata": {
        "id": "OfTR1UQKXhAV"
      }
    },
    {
      "cell_type": "code",
      "source": [
        "# y 값만 지정 (x 값은 자동으로 0,1,2,3 생성됨)\n",
        "plt.plot([1, 2, 3, 4])\n",
        "plt.show()"
      ],
      "metadata": {
        "id": "9GcMwHp3Xop7"
      },
      "execution_count": null,
      "outputs": []
    },
    {
      "cell_type": "markdown",
      "source": [
        "# 그래프 꾸미기\n",
        "\n",
        "- `plt.xlabel(\"x축 이름\")` → x축에 이름 붙이기  \n",
        "- `plt.ylabel(\"y축 이름\")` → y축에 이름 붙이기  \n",
        "- `plt.show()` → 그래프를 화면에 출력하기 (Colab에서는 생략 가능)"
      ],
      "metadata": {
        "id": "5ftM6OI7Xv2S"
      }
    },
    {
      "cell_type": "code",
      "source": [
        "# x축과 y축에 이름 붙이기\n",
        "plt.plot([1, 2, 3, 4])\n",
        "plt.xlabel(\"x label\")\n",
        "plt.ylabel(\"y label\")\n",
        "plt.show()"
      ],
      "metadata": {
        "id": "pnllu_AcX0Cq"
      },
      "execution_count": null,
      "outputs": []
    },
    {
      "cell_type": "markdown",
      "source": [
        "# ✔️ 응용해 보기\n",
        "1. y 값을 `[2, 4, 6, 8]`로 바꿔서 실행해 보기  \n",
        "2. x 값을 직접 `[10, 20, 30, 40]`으로 넣어보기"
      ],
      "metadata": {
        "id": "JnFV7TXnYByx"
      }
    },
    {
      "cell_type": "code",
      "source": [],
      "metadata": {
        "id": "t9ktdbVwYFEZ"
      },
      "execution_count": null,
      "outputs": []
    },
    {
      "cell_type": "markdown",
      "source": [
        "# numpy와 브로드캐스팅 활용\n",
        "\n",
        "- `plot()` 함수 입력값은 **리스트뿐만 아니라 numpy 배열**도 가능함  \n",
        "- numpy의 **브로드캐스팅 기능**을 활용하면 **수학 함수를 손쉽게 표현**할 수 있음  \n",
        "\n",
        "예시:  \n",
        "- 함수: `y = x^2`  \n",
        "- 범위: `x = 0 ~ 9`  \n",
        "- 결과: `y 값은 0^2 ~ 9^2 → 0 ~ 81`"
      ],
      "metadata": {
        "id": "WCuWdcoZYKfa"
      }
    },
    {
      "cell_type": "code",
      "source": [
        "import numpy as np\n",
        "\n",
        "# 0에서 9까지 정수 배열 생성\n",
        "x = np.arange(10)\n",
        "\n",
        "# y = x^2 함수 그리기\n",
        "plt.plot(x**2)\n",
        "plt.show()"
      ],
      "metadata": {
        "id": "bMYdqefgYjPM"
      },
      "execution_count": null,
      "outputs": []
    },
    {
      "cell_type": "markdown",
      "source": [
        "# 축 범위 설정의 중요성\n",
        "\n",
        "- 데이터에 따라 **축의 범위가 불균형**하게 잡히면 그래프 해석이 어려워짐  \n",
        "- 예: y = x² 함수는 값이 급격히 커지므로 y축이 자동으로 크게 설정됨  \n",
        "\n",
        "👉 `plt.axis([xmin, xmax, ymin, ymax])` 형식으로 직접 범위를 지정 가능  \n",
        "- 예: `plt.axis([0, 100, 0, 100])`  \n",
        "- 이렇게 하면 **x축과 y축의 스케일을 동일하게 맞춰** 데이터 특성을 더 명확하게 확인할 수 있음  \n",
        "\n",
        "**결론**: 축 범위 조정은 데이터 시각화에서 중요한 해석 도구임"
      ],
      "metadata": {
        "id": "-FZeNc9TYuRO"
      }
    },
    {
      "cell_type": "code",
      "source": [
        "# 다시 x = 0~9 범위 생성\n",
        "x = np.arange(10)\n",
        "\n",
        "# y = x^2 그래프를 그림\n",
        "plt.plot(x**2)\n",
        "\n",
        "# x축과 y축 범위를 동일하게 [0, 100]으로 설정\n",
        "plt.axis([0, 100, 0, 100])\n",
        "\n",
        "plt.show()"
      ],
      "metadata": {
        "id": "2B7xcfonYxav"
      },
      "execution_count": null,
      "outputs": []
    },
    {
      "cell_type": "markdown",
      "source": [
        "# ✔️ 응용해 보기\n",
        "1. y = x³ 그래프를 직접 그려보기  \n",
        "2. y = np.sin(x) 같은 다른 수학 함수도 시각화해 보기"
      ],
      "metadata": {
        "id": "iLWLLYhtZQi9"
      }
    },
    {
      "cell_type": "code",
      "source": [],
      "metadata": {
        "id": "vG984oA4ZXGd"
      },
      "execution_count": null,
      "outputs": []
    },
    {
      "cell_type": "markdown",
      "source": [
        "# 여러 함수를 한 화면에 그리기\n",
        "\n",
        "- 데이터 분석이나 수학적 함수 시각화에서는 여러 함수를 **비교**해야 하는 경우가 많음  \n",
        "- 각각 따로 그리면 번거롭고, 한눈에 비교하기 어려움  \n",
        "- 따라서 **한 화면에 동시에 여러 함수**를 표시하는 방법이 필요함  \n",
        "\n",
        "예시:  \n",
        "- y₁ = 2x  \n",
        "- y₂ = (1/3)x² + 5  \n",
        "- y₃ = -x² - 5"
      ],
      "metadata": {
        "id": "mCahtdSwZYkS"
      }
    },
    {
      "cell_type": "code",
      "source": [
        "import matplotlib.pyplot as plt\n",
        "import numpy as np\n",
        "\n",
        "# -20에서 20까지 정수 생성\n",
        "x = np.arange(-20, 20)\n",
        "\n",
        "# 세 가지 함수 정의\n",
        "y1 = 2 * x\n",
        "y2 = (1/3) * x**2 + 5\n",
        "y3 = -x**2 - 5"
      ],
      "metadata": {
        "id": "X8si58wxZ0jr"
      },
      "execution_count": null,
      "outputs": []
    },
    {
      "cell_type": "markdown",
      "source": [
        "# plot()의 스타일 옵션 활용\n",
        "\n",
        "- plt.plot(x, y1, 'g--') → 녹색(green), 점선(--)  \n",
        "- plt.plot(x, y2, 'r^-') → 빨강(red), 실선(-), 삼각형(^) 마커  \n",
        "- plt.plot(x, y3, 'b*:') → 파랑(blue), 점선(:), 별(*) 마커  \n",
        "\n",
        "👉 색상(Color) + 선(Line) + 표식(Marker)을 조합해서  \n",
        "한 화면에 여러 함수를 **시각적으로 구분**할 수 있음  \n",
        "\n",
        "- 축 범위도 `plt.axis([xmin, xmax, ymin, ymax])`로 지정 가능"
      ],
      "metadata": {
        "id": "oyOO6wl9Z76M"
      }
    },
    {
      "cell_type": "code",
      "source": [
        "# 세 함수 동시에 그리기 + 스타일 적용\n",
        "plt.plot(x, y1, 'g--',   # 녹색 점선\n",
        "         x, y2, 'r^-',   # 빨강 실선 + 삼각형 마커\n",
        "         x, y3, 'b*:')   # 파랑 점선 + 별 마커\n",
        "\n",
        "# x축, y축 범위 지정\n",
        "plt.axis([-30, 30, -30, 30])\n",
        "plt.show()"
      ],
      "metadata": {
        "id": "KbA4ulzcZ-t2"
      },
      "execution_count": null,
      "outputs": []
    },
    {
      "cell_type": "markdown",
      "source": [
        "# 선 그리기의 의미와 확장성\n",
        "\n",
        "- plot()은 단순히 선 하나만 그리는 도구가 아님  \n",
        "- 여러 함수를 **한 화면에 시각화**하면 비교와 분석이 훨씬 직관적임  \n",
        "- 색, 선 모양, 마커를 적절히 조합하면 시각적으로 명확히 구분 가능  \n",
        "\n",
        "👉 데이터 사이언스 실무에서도 동일한 원리 적용됨  \n",
        "- 예: 여러 모델의 **예측 결과 비교**, **데이터 분포 비교**, **추세 비교**  \n",
        "\n",
        "**결론**: plot() 함수는  \n",
        "- 단순 선 그리기 도구가 아니라,  \n",
        "- 데이터 비교와 분석을 위한 **강력한 시각화 수단**"
      ],
      "metadata": {
        "id": "P3H7PVE7bIoX"
      }
    },
    {
      "cell_type": "markdown",
      "source": [
        "# ✔️ 응용해 보기\n",
        "1. 각각 다른 색상과 마커를 적용해서 비교하기  \n",
        "2. plt.legend()를 활용해 범례(legend)를 추가해 보기"
      ],
      "metadata": {
        "id": "1umX0moAbXoM"
      }
    },
    {
      "cell_type": "code",
      "source": [],
      "metadata": {
        "id": "BzTRPLFKb7Qf"
      },
      "execution_count": null,
      "outputs": []
    },
    {
      "cell_type": "markdown",
      "source": [
        "# 다양한 데이터와 선 표현의 필요성\n",
        "\n",
        "- 데이터 분석에서는 단순 직선이 아니라 **복잡한 패턴**을 시각화해야 함  \n",
        "- 예:  \n",
        "  - 난수(random) 데이터 → 불규칙적인 패턴  \n",
        "  - 주기 함수(sin, cos) → 반복적인 파동  \n",
        "\n",
        "👉 `plt.plot()`은 이런 다양한 데이터를 한 화면에서 표현할 수 있음"
      ],
      "metadata": {
        "id": "F7Lp6pDGb7tt"
      }
    },
    {
      "cell_type": "code",
      "source": [
        "import matplotlib.pyplot as plt\n",
        "import numpy as np\n",
        "\n",
        "# 난수 데이터 시각화\n",
        "N = 50\n",
        "x = np.arange(N)\n",
        "y = np.random.random(size=N) # 0과 1 사이의 무작위 실수를 뽑아내는 함수\n",
        "\n",
        "# 녹색 점선(:), 삼각형(^) 마커\n",
        "plt.plot(x, y, 'g^:')\n",
        "plt.show()"
      ],
      "metadata": {
        "id": "SymzXk2LcC8Z"
      },
      "execution_count": null,
      "outputs": []
    },
    {
      "cell_type": "markdown",
      "source": [
        "# 난수와 주기 함수 시각화\n",
        "\n",
        "- `np.random()` → 불규칙한 난수 데이터 생성  \n",
        "- `np.sin()`, `np.cos()` → 반복적인 파동(주기 함수) 생성  \n",
        "\n",
        "👉 실제 데이터(잡음 포함)와 이론적 모델(함수)을 비교하는 데 활용 가능"
      ],
      "metadata": {
        "id": "RmrRJqJDchvU"
      }
    },
    {
      "cell_type": "code",
      "source": [
        "# 0 ~ 2π 범위에서 100개의 값 생성\n",
        "x = np.linspace(0, np.pi * 2, 100)\n",
        "\n",
        "# sin(x): 빨강 실선, cos(x): 파랑 점선\n",
        "plt.plot(x, np.sin(x), 'r-')\n",
        "plt.plot(x, np.cos(x), 'b:')\n",
        "plt.show()"
      ],
      "metadata": {
        "id": "FzDOLPrEck4Y"
      },
      "execution_count": null,
      "outputs": []
    },
    {
      "cell_type": "markdown",
      "source": [
        "# 그래프 저장하기\n",
        "\n",
        "- 시각화 결과는 화면에 표시할 뿐만 아니라 파일로 저장 가능  \n",
        "- 주요 함수:  \n",
        "  - `plt.figure()` → 새 figure 객체 생성  \n",
        "  - `fig.savefig(\"파일명.png\")` → PNG 파일로 저장  \n",
        "\n",
        "👉 지원 포맷: PNG, JPG, SVG, TIF, PDF 등 10여 가지 이상  \n",
        "👉 지원 포맷 확인: `fig.canvas.get_supported_filetypes()`"
      ],
      "metadata": {
        "id": "LV0SJHFicwr2"
      }
    },
    {
      "cell_type": "code",
      "source": [
        "# sin, cos 그래프를 그리고 파일로 저장\n",
        "x = np.linspace(0, np.pi * 2, 100)\n",
        "\n",
        "fig = plt.figure()\n",
        "plt.plot(x, np.sin(x), 'r-')\n",
        "plt.plot(x, np.cos(x), 'b:')\n",
        "fig.savefig('sin_cos_fig.png')  # PNG 파일 저장"
      ],
      "metadata": {
        "id": "DyIzZIanc1H-"
      },
      "execution_count": null,
      "outputs": []
    },
    {
      "cell_type": "markdown",
      "source": [
        "# 저장한 이미지 확인하기\n",
        "\n",
        "- **Colab**  \n",
        "  출력된 그래프 위에서 **마우스 오른쪽 버튼 → \"이미지를 다른 이름으로 저장\"** 을 선택하면 다운로드 가능  \n",
        "\n",
        "- **Jupyter/IPython**  \n",
        "  `from IPython.display import Image` 를 이용해 저장된 이미지를 노트북 화면에 불러올 수 있음  \n",
        "\n",
        "- **로컬 실행 환경 (IDLE, VS Code 등)**  \n",
        "  그래프 창에서 **파일 → 저장** 기능을 통해 직접 저장 가능  \n",
        "\n",
        "👉 가장 간단한 방법: **출력된 그림에서 마우스 오른쪽 클릭 → \"이미지를 저장\"**"
      ],
      "metadata": {
        "id": "VxodvbZkeuTu"
      }
    },
    {
      "cell_type": "code",
      "source": [
        "from IPython.display import Image\n",
        "\n",
        "# 저장한 이미지 불러오기\n",
        "Image('sin_cos_fig.png')"
      ],
      "metadata": {
        "id": "JdXjiNuBd_nL"
      },
      "execution_count": null,
      "outputs": []
    },
    {
      "cell_type": "markdown",
      "source": [
        "# plt.show()에서 DPI 적용하기\n",
        "\n",
        "- 보통 `plt.show()`는 디폴트 해상도(dpi=100) 정도로 출력됨  \n",
        "- 더 선명한 그래프를 보고 싶다면 **출력 해상도 자체를 조정**할 수 있음  \n",
        "\n",
        "방법:  \n",
        "1. `plt.figure(dpi=값)` → 개별 그래프마다 설정  \n",
        "2. `plt.rcParams[\"figure.dpi\"] = 값` → 전체 기본값 변경  \n",
        "\n",
        "👉 Colab에서 그래프를 볼 때,  \n",
        "- `dpi=72` → 흐릿하게 보임  \n",
        "- `dpi=150` 이상 → 선명하게 보임"
      ],
      "metadata": {
        "id": "akC99kr2qdxG"
      }
    },
    {
      "cell_type": "code",
      "source": [
        "import numpy as np\n",
        "import matplotlib.pyplot as plt\n",
        "\n",
        "x = np.linspace(0, np.pi * 2, 100)\n",
        "\n",
        "# 개별 Figure 해상도 설정 (dpi=150)\n",
        "plt.figure(dpi=150)\n",
        "plt.plot(x, np.sin(x), 'r-', label='sin')\n",
        "plt.plot(x, np.cos(x), 'b:', label='cos')\n",
        "plt.legend()\n",
        "plt.title(\"Sin and Cos Curve (dpi=150)\")\n",
        "plt.show()"
      ],
      "metadata": {
        "id": "-jl8mSqTqhoc"
      },
      "execution_count": null,
      "outputs": []
    },
    {
      "cell_type": "code",
      "source": [
        "# 전체 출력 기본값을 고해상도로 변경 (예: 200 dpi)\n",
        "plt.rcParams[\"figure.dpi\"] = 200\n",
        "\n",
        "x = np.linspace(0, np.pi * 2, 100)\n",
        "\n",
        "plt.plot(x, np.sin(x), 'r-', label='sin')\n",
        "plt.plot(x, np.cos(x), 'b:', label='cos')\n",
        "plt.legend()\n",
        "plt.title(\"Sin and Cos Curve (Global dpi=200)\")\n",
        "plt.show()"
      ],
      "metadata": {
        "id": "0m6whX-zqmIA"
      },
      "execution_count": null,
      "outputs": []
    },
    {
      "cell_type": "markdown",
      "source": [
        "# DPI 변화에 따른 차이\n",
        "\n",
        "- **72 dpi** → 선이 두껍고 계단현상이 보일 수 있음  \n",
        "- **150 dpi** → 웹 시각화용으로 적당히 선명함  \n",
        "- **200~300 dpi** → 확대해도 깔끔, 논문·보고서 시각화에 적합  \n",
        "\n",
        "👉 Colab에서 직접 `plt.figure(dpi=값)`을 바꿔가며 실행하면  \n",
        "화면 출력 시 그래프 선명도의 차이를 눈으로 확인할 수 있음"
      ],
      "metadata": {
        "id": "8aBTIVkmqrYS"
      }
    },
    {
      "cell_type": "markdown",
      "source": [
        "# ✔️ 응용해 보기\n",
        "1. np.random()으로 100개 난수를 만들어 시각화해 보기  \n",
        "2. sin(x)와 cos(x)를 같은 화면에 그리되, x 범위를 0~4π로 확장해 보기  \n",
        "3. dpi(화질 설정)에 따라 출력 결과가 어떻게 달라지는지 비교해 보기"
      ],
      "metadata": {
        "id": "Bl7OiW6al2Nw"
      }
    },
    {
      "cell_type": "code",
      "source": [],
      "metadata": {
        "id": "Er0tkePHl9YC"
      },
      "execution_count": null,
      "outputs": []
    },
    {
      "cell_type": "markdown",
      "source": [
        "# 그래프 가독성의 필요성\n",
        "\n",
        "- 단순히 선만 그린 그래프는 데이터의 의미를 이해하기 어려움  \n",
        "- 따라서 **제목(title)**, **축 레이블(xlabel, ylabel)**, **범례(legend)**를 추가해야 함  \n",
        "- 이렇게 하면 그래프가 더 **직관적**이고 **설명력** 있게 됨"
      ],
      "metadata": {
        "id": "B4Gnyq6vl9kd"
      }
    },
    {
      "cell_type": "code",
      "source": [
        "import numpy as np\n",
        "import matplotlib.pyplot as plt\n",
        "\n",
        "# 데이터 준비\n",
        "x = np.linspace(0, np.pi * 2, 100)\n",
        "\n",
        "# 제목, 축 레이블, 범례 적용\n",
        "plt.title('Sin and Cos Curve')              # 그래프 제목\n",
        "plt.plot(x, np.sin(x), 'r-', label='sin')   # 빨강 실선 + 범례 라벨\n",
        "plt.plot(x, np.cos(x), 'b:', label='cos')   # 파랑 점선 + 범례 라벨\n",
        "plt.xlabel('x value')                       # x축 레이블\n",
        "plt.ylabel('y value')                       # y축 레이블\n",
        "plt.legend()                                # 범례 출력\n",
        "plt.show()"
      ],
      "metadata": {
        "id": "GsElM57-mfkZ"
      },
      "execution_count": null,
      "outputs": []
    },
    {
      "cell_type": "markdown",
      "source": [
        "# 제목·레이블·범례 추가하기\n",
        "\n",
        "- `plt.title(\"제목\")` → 그래프의 제목 설정  \n",
        "- `plt.xlabel(\"x축 이름\")`, `plt.ylabel(\"y축 이름\")` → 축 설명 추가  \n",
        "- `plt.plot(..., label=\"설명\")` → 각 그래프에 범례 이름 지정  \n",
        "- `plt.legend()` → label을 불러와 범례 출력  \n",
        "- `plt.legend(loc=\"upper right\")` → 범례 위치 지정 가능"
      ],
      "metadata": {
        "id": "deLoc0JBmpSv"
      }
    },
    {
      "cell_type": "code",
      "source": [
        "# 범례 위치를 오른쪽 상단에 표시\n",
        "x = np.linspace(0, np.pi * 2, 100)\n",
        "\n",
        "plt.title('Sin and Cos Curve')\n",
        "plt.plot(x, np.sin(x), 'r-', label='sin')\n",
        "plt.plot(x, np.cos(x), 'b:', label='cos')\n",
        "plt.xlabel('x value')\n",
        "plt.ylabel('y value')\n",
        "plt.legend(loc='upper right')  # 범례 위치 지정\n",
        "plt.show()"
      ],
      "metadata": {
        "id": "6l4WI-B3mq2y"
      },
      "execution_count": null,
      "outputs": []
    },
    {
      "cell_type": "markdown",
      "source": [
        "# 스타일과 시각적 효과\n",
        "\n",
        "- matplotlib은 기본 스타일 외에도 다양한 테마 제공  \n",
        "- `plt.style.use(\"seaborn-v0_8-whitegrid\")` → 흰색 배경 + 격자무늬 스타일  \n",
        "- `plt.style.available` → 사용 가능한 스타일 목록 확인 가능  \n",
        "- `plt.style.use(\"default\")` → 기본(default) 스타일로 복구  \n",
        "\n",
        "👉 같은 데이터라도 **스타일 변경**으로 더 깔끔하고 보기 좋은 그래프 표현 가능"
      ],
      "metadata": {
        "id": "aeh7gOramyE4"
      }
    },
    {
      "cell_type": "code",
      "source": [
        "# 스타일 적용\n",
        "plt.style.use('seaborn-v0_8-whitegrid')\n",
        "\n",
        "x = np.linspace(0, np.pi * 2, 100)\n",
        "\n",
        "plt.title('Sin and Cos Curve')\n",
        "plt.plot(x, np.sin(x), 'r-', label='sin')\n",
        "plt.plot(x, np.cos(x), 'b:', label='cos')\n",
        "plt.xlabel('x value')\n",
        "plt.ylabel('y value')\n",
        "plt.legend()\n",
        "plt.show()\n",
        "\n",
        "# 사용 가능한 스타일 목록 확인\n",
        "print(plt.style.available)\n",
        "\n",
        "# 디폴트 스타일로 복귀\n",
        "plt.style.use('default')"
      ],
      "metadata": {
        "id": "zy49VX5Fm0uO"
      },
      "execution_count": null,
      "outputs": []
    },
    {
      "cell_type": "markdown",
      "source": [
        "# ✔️ 응용해 보기\n",
        "1. 제목을 \"Sine vs Cosine\"으로 바꿔보기  \n",
        "2. 범례 위치를 \"lower left\"로 변경해 보기"
      ],
      "metadata": {
        "id": "pzUg91Clm5G3"
      }
    },
    {
      "cell_type": "code",
      "source": [],
      "metadata": {
        "id": "B_qaGEOmnA6i"
      },
      "execution_count": null,
      "outputs": []
    },
    {
      "cell_type": "markdown",
      "source": [
        "# 단일 plot() 함수의 한계\n",
        "\n",
        "- `plt.plot()`은 간단한 그래프를 빠르게 그릴 때 유용  \n",
        "- 하지만 여러 종류의 그래프를 동시에 배치하기에는 한계 존재  \n",
        "- 따라서 **여러 개의 그래프를 한 화면에 배치**할 수 있는 방법이 필요"
      ],
      "metadata": {
        "id": "k08heTTInBD9"
      }
    },
    {
      "cell_type": "markdown",
      "source": [
        "# subplots() 함수의 등장\n",
        "\n",
        "- `plt.subplots(nrows, ncols)` → 행 × 열 구조로 그래프 배치  \n",
        "- 반환 값: **Figure 객체 + Axes 객체**  \n",
        "  - **Figure**: 전체 그래프 영역 (큰 틀, 컨테이너)  \n",
        "  - **Axes**: 실제 그래프가 그려지는 작은 박스  \n",
        "\n",
        "👉 여러 Axes는 배열로 관리되며, `ax[0,0]`, `ax[1,1]`처럼 인덱스로 접근 가능"
      ],
      "metadata": {
        "id": "KZ5K2T_RnpIH"
      }
    },
    {
      "cell_type": "code",
      "source": [
        "import matplotlib.pyplot as plt\n",
        "import numpy as np\n",
        "\n",
        "# 2행 2열 subplot 생성\n",
        "fig, ax = plt.subplots(2, 2)\n",
        "\n",
        "# 산점도\n",
        "X = np.random.randn(100)\n",
        "Y = np.random.randn(100)\n",
        "ax[0, 0].scatter(X, Y)\n",
        "\n",
        "# 막대 그래프\n",
        "X = np.arange(10)\n",
        "Y = np.random.uniform(1, 10, 10)\n",
        "ax[0, 1].bar(X, Y)\n",
        "\n",
        "# 선 그래프\n",
        "X = np.linspace(0, 10, 100)\n",
        "Y = np.cos(X)\n",
        "ax[1, 0].plot(X, Y)\n",
        "\n",
        "# 2D 이미지\n",
        "Z = np.random.uniform(0, 1, (5, 5))\n",
        "ax[1, 1].imshow(Z)\n",
        "\n",
        "plt.show()"
      ],
      "metadata": {
        "id": "v_TjGNxznswQ"
      },
      "execution_count": null,
      "outputs": []
    },
    {
      "cell_type": "markdown",
      "source": [
        "# Axes와 Axis의 구분\n",
        "\n",
        "- **Axes** (복수형): 그래프를 담는 영역(프레임)  \n",
        "- **Axis** (단수형): 실제 축(x축, y축)  \n",
        "- 이름이 비슷해 혼동하기 쉽지만,  \n",
        "  👉 Axes = 공간 / Axis = 축 으로 기억"
      ],
      "metadata": {
        "id": "VquvdUnWnwvh"
      }
    },
    {
      "cell_type": "markdown",
      "source": [
        "# subplot()의 고급 기능\n",
        "\n",
        "- `plt.subplots()`는 행(row) × 열(col) 구조로 배치  \n",
        "- 하지만 단순 배치만으로는 **간격 조절**이 어려움  \n",
        "\n",
        "👉 해결책:  \n",
        "- `wspace` → 수평 간격 조절  \n",
        "- `hspace` → 수직 간격 조절  \n",
        "\n",
        "예:  \n",
        "- `wspace=0.4` → 좌우 간격 넓게  \n",
        "- `hspace=0` → 위아래 그래프를 붙여 배치"
      ],
      "metadata": {
        "id": "vrUzz_Tjnyuz"
      }
    },
    {
      "cell_type": "code",
      "source": [
        "# 2행 3열 subplot 배치\n",
        "fig, ax = plt.subplots(2, 3)\n",
        "\n",
        "# 각 위치에 텍스트로 좌표 표시 (시각 확인용)\n",
        "for i in range(2):\n",
        "    for j in range(3):\n",
        "        ax[i, j].text(0.3, 0.5, str((i, j)), fontsize=11)\n",
        "\n",
        "plt.show()"
      ],
      "metadata": {
        "id": "doV5qS_Cn1Er"
      },
      "execution_count": null,
      "outputs": []
    },
    {
      "cell_type": "markdown",
      "source": [
        "# GridSpec을 활용한 고급 배치\n",
        "\n",
        "- `plt.GridSpec(nrows, ncols, wspace, hspace)` → 세밀한 간격 제어 가능  \n",
        "- 특정 영역을 병합해서 더 큰 그래프도 배치 가능  \n",
        "\n",
        "👉 다양한 데이터 시각화를 **대시보드 형태**로 구성 가능"
      ],
      "metadata": {
        "id": "xmztYB7VoBGP"
      }
    },
    {
      "cell_type": "code",
      "source": [
        "# GridSpec으로 여백 조정 및 영역 병합\n",
        "fig, ax = plt.subplots(2, 3)\n",
        "\n",
        "grid = plt.GridSpec(2, 3, wspace=0.4, hspace=0.3)\n",
        "\n",
        "# 산점도\n",
        "X = np.random.randn(100)\n",
        "Y = np.random.randn(100)\n",
        "plt.subplot(grid[0, 0]).scatter(X, Y)\n",
        "\n",
        "# 막대 그래프 (0행 1~2열 합침)\n",
        "X = np.arange(10)\n",
        "Y = np.random.uniform(1, 10, 10)\n",
        "plt.subplot(grid[0, 1:]).bar(X, Y)\n",
        "\n",
        "# 선 그래프 (1행 0~1열 합침)\n",
        "X = np.linspace(0, 10, 100)\n",
        "Y = np.cos(X)\n",
        "plt.subplot(grid[1, :2]).plot(X, Y)\n",
        "\n",
        "# 2D 이미지\n",
        "Z = np.random.uniform(0, 1, (5, 5))\n",
        "plt.subplot(grid[1, 2]).imshow(Z)\n",
        "\n",
        "plt.show()"
      ],
      "metadata": {
        "id": "fx1fUjY-oDho"
      },
      "execution_count": null,
      "outputs": []
    },
    {
      "cell_type": "markdown",
      "source": [
        "# ✔️ 응용해 보기\n",
        "1. 3행 2열 구조로 subplot 배치 후, 각 위치에 다른 그래프를 넣어보기  \n",
        "2. wspace, hspace 값을 다양하게 바꿔보며 간격 변화를 확인하기  \n",
        "3. GridSpec을 이용해 첫 번째 행 전체를 하나의 큰 그래프로 합쳐보기"
      ],
      "metadata": {
        "id": "clO23xcGoJ6s"
      }
    },
    {
      "cell_type": "code",
      "source": [],
      "metadata": {
        "id": "vr1UsuA7oNgr"
      },
      "execution_count": null,
      "outputs": []
    }
  ]
}