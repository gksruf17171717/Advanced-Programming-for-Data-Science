{
  "nbformat": 4,
  "nbformat_minor": 0,
  "metadata": {
    "colab": {
      "provenance": []
    },
    "kernelspec": {
      "name": "python3",
      "display_name": "Python 3"
    },
    "language_info": {
      "name": "python"
    }
  },
  "cells": [
    {
      "cell_type": "markdown",
      "source": [
        "# 🔹 데이터 분석과 판다스: Series의 이해\n",
        "\n",
        "- **판다스(Pandas)**는 파이썬에서 데이터를 다루는 대표적인 라이브러리  \n",
        "- 핵심 자료 구조: **Series**와 **DataFrame**  \n",
        "- **Series**: 1차원 데이터(리스트와 비슷)  \n",
        "- **DataFrame**: 2차원 데이터(엑셀 표와 비슷)"
      ],
      "metadata": {
        "id": "xpBQxpwyuxjZ"
      }
    },
    {
      "cell_type": "code",
      "execution_count": null,
      "metadata": {
        "id": "AsXew5oZuRmo",
        "outputId": "f98e2a69-28c4-4ab4-802d-2f92fd282c5d",
        "colab": {
          "base_uri": "https://localhost:8080/"
        }
      },
      "outputs": [
        {
          "output_type": "stream",
          "name": "stdout",
          "text": [
            "0    25\n",
            "1    34\n",
            "2    19\n",
            "3    45\n",
            "4    60\n",
            "dtype: int64\n",
            "<class 'pandas.core.series.Series'>\n"
          ]
        }
      ],
      "source": [
        "import pandas as pd\n",
        "\n",
        "# 직접 리스트 입력 → Series 생성\n",
        "age = pd.Series([25, 34, 19, 45, 60])\n",
        "\n",
        "# age의 내용 출력\n",
        "print(age)\n",
        "\n",
        "# age의 데이터형 확인\n",
        "print(type(age))"
      ]
    },
    {
      "cell_type": "markdown",
      "source": [
        "# 🔹 Series 생성 방법\n",
        "\n",
        "- **리스트(list)를 직접 입력**해서 만들 수 있음  \n",
        "- 출력 결과에서 **왼쪽 숫자(0,1,2,...)는 인덱스(index)**  \n",
        "- 오른쪽 값은 실제 데이터(value)  \n",
        "\n",
        "👉 Series는 리스트와 달리 **인덱스와 값**이 한 쌍으로 출력됨"
      ],
      "metadata": {
        "id": "byxti84UvTvE"
      }
    },
    {
      "cell_type": "code",
      "source": [
        "# 이미 만들어진 리스트를 Series로 변환\n",
        "data = ['spring', 'summer', 'fall', 'winter']\n",
        "season = pd.Series(data)\n",
        "\n",
        "print(season)"
      ],
      "metadata": {
        "id": "KgK4iLNWvYvP",
        "outputId": "d629323c-da15-4fe6-bbeb-0ed3c17bc8fd",
        "colab": {
          "base_uri": "https://localhost:8080/"
        }
      },
      "execution_count": null,
      "outputs": [
        {
          "output_type": "stream",
          "name": "stdout",
          "text": [
            "0    spring\n",
            "1    summer\n",
            "2      fall\n",
            "3    winter\n",
            "dtype: object\n"
          ]
        }
      ]
    },
    {
      "cell_type": "markdown",
      "source": [
        "# 🔹 인덱스(index)로 값 접근하기\n",
        "\n",
        "- `season.iloc[번호]` → 번호(index)에 해당하는 값 가져오기  \n",
        "- 인덱스는 0부터 시작함 (리스트와 동일)  \n",
        "- 예: `season.iloc[2]` → 세 번째 값 = \"fall\""
      ],
      "metadata": {
        "id": "VrtYUzXRvgs7"
      }
    },
    {
      "cell_type": "code",
      "source": [
        "# 인덱스 2의 값 가져오기\n",
        "print(season.iloc[2])"
      ],
      "metadata": {
        "id": "PGJHiT75vkWr",
        "outputId": "b44a74e7-9a2b-41aa-ed02-452bf2123dbd",
        "colab": {
          "base_uri": "https://localhost:8080/"
        }
      },
      "execution_count": null,
      "outputs": [
        {
          "output_type": "stream",
          "name": "stdout",
          "text": [
            "fall\n"
          ]
        }
      ]
    },
    {
      "cell_type": "markdown",
      "source": [
        "# 🔹 생각해 보기\n",
        "\n",
        "1. `season.iloc[2]` 대신 `season.iloc[0]`을 실행하면 어떤 값이 나올까?  \n",
        "2. `age = pd.Series([25, 34, 19, 45, 60])`에서 값을 바꿔  \n",
        "   `[10, 20, 30, 40, 50]`으로 만들면 출력 결과가 어떻게 달라질까?  \n",
        "3. `type(age)` 대신 `age.mean()`을 실행하면 어떤 결과가 나올까?"
      ],
      "metadata": {
        "id": "wqQAj9BLvw6l"
      }
    },
    {
      "cell_type": "code",
      "source": [
        "print(season.iloc[0])"
      ],
      "metadata": {
        "id": "Fu-Mt_6hJ5Ox",
        "outputId": "3eb9ce5d-0db9-4f99-9365-9781d8ff630d",
        "colab": {
          "base_uri": "https://localhost:8080/"
        }
      },
      "execution_count": null,
      "outputs": [
        {
          "output_type": "stream",
          "name": "stdout",
          "text": [
            "spring\n"
          ]
        }
      ]
    },
    {
      "cell_type": "code",
      "source": [
        "age = pd.Series([10, 20, 30, 40, 50])\n",
        "print(age)"
      ],
      "metadata": {
        "id": "hV77LgbMJ8NP",
        "outputId": "aeb43db9-d929-4a7a-8865-16fff19e75f2",
        "colab": {
          "base_uri": "https://localhost:8080/"
        }
      },
      "execution_count": null,
      "outputs": [
        {
          "output_type": "stream",
          "name": "stdout",
          "text": [
            "0    10\n",
            "1    20\n",
            "2    30\n",
            "3    40\n",
            "4    50\n",
            "dtype: int64\n"
          ]
        }
      ]
    },
    {
      "cell_type": "code",
      "source": [
        "print(age.mean())"
      ],
      "metadata": {
        "id": "KkM5NjHnKEe1",
        "outputId": "2f487275-742c-4959-d01e-f3d0ed05ac9a",
        "colab": {
          "base_uri": "https://localhost:8080/"
        }
      },
      "execution_count": null,
      "outputs": [
        {
          "output_type": "stream",
          "name": "stdout",
          "text": [
            "30.0\n"
          ]
        }
      ]
    },
    {
      "cell_type": "markdown",
      "source": [
        "# 🔹 DataFrame의 이해\n",
        "\n",
        "- **DataFrame**은 판다스의 2차원 자료구조  \n",
        "- 행(row) × 열(column) 구조 → 엑셀, CSV, SQL 테이블과 유사  \n",
        "- `pd.DataFrame(리스트)`로 생성 가능  \n",
        "- `Series` 여러 개가 합쳐진 형태라고 볼 수도 있음"
      ],
      "metadata": {
        "id": "U8k9RHdCwIM5"
      }
    },
    {
      "cell_type": "code",
      "source": [
        "import pandas as pd\n",
        "\n",
        "# 2차원 리스트로부터 데이터프레임 생성\n",
        "score = pd.DataFrame([[85, 96, 40, 95],\n",
        "                      [73, 69, 45, 80],\n",
        "                      [78, 50, 60, 90]])\n",
        "\n",
        "# 내용 출력\n",
        "print(score)\n",
        "\n",
        "# 자료형 확인\n",
        "print(type(score))"
      ],
      "metadata": {
        "id": "_Rgdt9NNwMLz",
        "outputId": "0df4d433-bb63-4c51-a1cf-92b48e01282d",
        "colab": {
          "base_uri": "https://localhost:8080/"
        }
      },
      "execution_count": null,
      "outputs": [
        {
          "output_type": "stream",
          "name": "stdout",
          "text": [
            "    0   1   2   3\n",
            "0  85  96  40  95\n",
            "1  73  69  45  80\n",
            "2  78  50  60  90\n",
            "<class 'pandas.core.frame.DataFrame'>\n"
          ]
        }
      ]
    },
    {
      "cell_type": "markdown",
      "source": [
        "# 🔹 DataFrame의 기본 속성\n",
        "\n",
        "- `.index` → 행(row) 인덱스 (기본값: 0, 1, 2, ...)  \n",
        "- `.columns` → 열(column) 인덱스 (기본값: 0, 1, 2, ...)  \n",
        "\n",
        "👉 인덱스는 데이터 탐색과 선택에서 매우 중요한 역할을 함"
      ],
      "metadata": {
        "id": "UU8HCGfMwQqz"
      }
    },
    {
      "cell_type": "code",
      "source": [
        "# 행 인덱스\n",
        "print(score.index)\n",
        "\n",
        "# 열 인덱스\n",
        "print(score.columns)"
      ],
      "metadata": {
        "id": "MqhFq3MNwUdh",
        "outputId": "55d0e289-7260-4bed-efaf-186285b2e285",
        "colab": {
          "base_uri": "https://localhost:8080/"
        }
      },
      "execution_count": null,
      "outputs": [
        {
          "output_type": "stream",
          "name": "stdout",
          "text": [
            "RangeIndex(start=0, stop=3, step=1)\n",
            "RangeIndex(start=0, stop=4, step=1)\n"
          ]
        }
      ]
    },
    {
      "cell_type": "markdown",
      "source": [
        "# 🔹 특정 원소 접근하기\n",
        "\n",
        "- `iloc[행번호, 열번호]` 형식으로 원하는 원소를 선택  \n",
        "- 예: `iloc[1, 2]` → 1행 2열의 값 (0부터 시작)  \n",
        "- 즉, 두 번째 행 & 세 번째 열의 값을 가져옴"
      ],
      "metadata": {
        "id": "goaqmlbLwdPi"
      }
    },
    {
      "cell_type": "code",
      "source": [
        "# 1행 2열 값 가져오기\n",
        "print(score.iloc[1, 2])"
      ],
      "metadata": {
        "id": "GumGHLdwwfvv",
        "outputId": "c2592932-23b9-486f-e55e-d55ff4891272",
        "colab": {
          "base_uri": "https://localhost:8080/"
        }
      },
      "execution_count": null,
      "outputs": [
        {
          "output_type": "stream",
          "name": "stdout",
          "text": [
            "45\n"
          ]
        }
      ]
    },
    {
      "cell_type": "markdown",
      "source": [
        "# 🔹 생각해 보기\n",
        "\n",
        "1. `score.iloc[1, 2]` 대신 `score.iloc[0, 0]`을 실행하면 어떤 값이 나올까?  \n",
        "2. `score.index`와 `score.columns` 결과를 확인했을 때,  \n",
        "   인덱스를 원하는 숫자나 문자로 바꾸려면 어떤 방법이 있을까?  \n",
        "3. `score.iloc[2]`만 실행하면 어떤 결과가 나올까?"
      ],
      "metadata": {
        "id": "qbLkI3sxwhfw"
      }
    },
    {
      "cell_type": "code",
      "source": [
        "# 1행 2열 값 가져오기\n",
        "print(score.iloc[0, 0])"
      ],
      "metadata": {
        "id": "zLmcur2UwoR7",
        "outputId": "9de5302c-1ffa-4880-9692-6106920bc492",
        "colab": {
          "base_uri": "https://localhost:8080/"
        }
      },
      "execution_count": null,
      "outputs": [
        {
          "output_type": "stream",
          "name": "stdout",
          "text": [
            "85\n"
          ]
        }
      ]
    },
    {
      "cell_type": "code",
      "source": [
        "score.index = [\"Korea\", \"Japan\", \"China\"]\n",
        "print(score)"
      ],
      "metadata": {
        "id": "2l8iummXLOIf",
        "outputId": "ee7cf1d9-ac49-48f1-b9e1-0e6ab70f7c64",
        "colab": {
          "base_uri": "https://localhost:8080/"
        }
      },
      "execution_count": null,
      "outputs": [
        {
          "output_type": "stream",
          "name": "stdout",
          "text": [
            "        0   1   2   3\n",
            "Korea  85  96  40  95\n",
            "Japan  73  69  45  80\n",
            "China  78  50  60  90\n"
          ]
        }
      ]
    },
    {
      "cell_type": "code",
      "source": [
        "score.iloc[2]"
      ],
      "metadata": {
        "id": "YQQ2xZF3Ldmh",
        "outputId": "fa5fb3e5-59ab-468d-d4a7-14eb309d1fc1",
        "colab": {
          "base_uri": "https://localhost:8080/",
          "height": 209
        }
      },
      "execution_count": null,
      "outputs": [
        {
          "output_type": "execute_result",
          "data": {
            "text/plain": [
              "0    78\n",
              "1    50\n",
              "2    60\n",
              "3    90\n",
              "Name: China, dtype: int64"
            ],
            "text/html": [
              "<div>\n",
              "<style scoped>\n",
              "    .dataframe tbody tr th:only-of-type {\n",
              "        vertical-align: middle;\n",
              "    }\n",
              "\n",
              "    .dataframe tbody tr th {\n",
              "        vertical-align: top;\n",
              "    }\n",
              "\n",
              "    .dataframe thead th {\n",
              "        text-align: right;\n",
              "    }\n",
              "</style>\n",
              "<table border=\"1\" class=\"dataframe\">\n",
              "  <thead>\n",
              "    <tr style=\"text-align: right;\">\n",
              "      <th></th>\n",
              "      <th>China</th>\n",
              "    </tr>\n",
              "  </thead>\n",
              "  <tbody>\n",
              "    <tr>\n",
              "      <th>0</th>\n",
              "      <td>78</td>\n",
              "    </tr>\n",
              "    <tr>\n",
              "      <th>1</th>\n",
              "      <td>50</td>\n",
              "    </tr>\n",
              "    <tr>\n",
              "      <th>2</th>\n",
              "      <td>60</td>\n",
              "    </tr>\n",
              "    <tr>\n",
              "      <th>3</th>\n",
              "      <td>90</td>\n",
              "    </tr>\n",
              "  </tbody>\n",
              "</table>\n",
              "</div><br><label><b>dtype:</b> int64</label>"
            ]
          },
          "metadata": {},
          "execution_count": 12
        }
      ]
    },
    {
      "cell_type": "markdown",
      "source": [
        "# 🔹 Series에 레이블 부여하기\n",
        "\n",
        "- 기본적으로 Series는 0, 1, 2... 순서의 숫자 인덱스를 가짐  \n",
        "- 하지만 원하는 이름(레이블)을 지정할 수 있음  \n",
        "- `Series.index = [...]` 로 행 이름을 지정  \n",
        "\n",
        "👉 이렇게 하면 단순한 숫자 대신 **사람 이름, 날짜 등 의미 있는 인덱스**를 사용할 수 있음\n",
        "\n"
      ],
      "metadata": {
        "id": "vvyXOq9Yw92A"
      }
    },
    {
      "cell_type": "code",
      "source": [
        "import pandas as pd\n",
        "\n",
        "# 기본 인덱스 (0,1,2,3)\n",
        "age = pd.Series([25, 34, 19, 45])\n",
        "print(\"레이블 부여 전:\")\n",
        "print(age)\n",
        "\n",
        "# 사용자 정의 인덱스 부여\n",
        "age.index = ['John', 'Jane', 'Tom', 'Luka']\n",
        "print(\"\\n레이블 부여 후:\")\n",
        "print(age)"
      ],
      "metadata": {
        "id": "24pII_OvxH86",
        "outputId": "70aa0839-df98-44b3-a834-b6550ac260fe",
        "colab": {
          "base_uri": "https://localhost:8080/"
        }
      },
      "execution_count": null,
      "outputs": [
        {
          "output_type": "stream",
          "name": "stdout",
          "text": [
            "레이블 부여 전:\n",
            "0    25\n",
            "1    34\n",
            "2    19\n",
            "3    45\n",
            "dtype: int64\n",
            "\n",
            "레이블 부여 후:\n",
            "John    25\n",
            "Jane    34\n",
            "Tom     19\n",
            "Luka    45\n",
            "dtype: int64\n"
          ]
        }
      ]
    },
    {
      "cell_type": "markdown",
      "source": [
        "# 🔹 iloc vs loc (Series)\n",
        "\n",
        "- `iloc[번호]` → **절대 위치 기반** 인덱싱  \n",
        "- `loc['레이블']` → **이름(레이블) 기반** 인덱싱  \n",
        "\n",
        "예시:  \n",
        "- `age.iloc[2]` → 세 번째 값 (Tom의 값)  \n",
        "- `age.loc['Tom']` → 'Tom'이라는 이름을 가진 값"
      ],
      "metadata": {
        "id": "RdIZIVexxKA3"
      }
    },
    {
      "cell_type": "code",
      "source": [
        "print(age.iloc[2])       # 절대 위치\n",
        "print(age.loc['Tom'])    # 레이블 기반"
      ],
      "metadata": {
        "id": "26CgVS14xMrU",
        "outputId": "6f829c31-6888-4be4-bf69-41e28acf5149",
        "colab": {
          "base_uri": "https://localhost:8080/"
        }
      },
      "execution_count": null,
      "outputs": [
        {
          "output_type": "stream",
          "name": "stdout",
          "text": [
            "19\n",
            "19\n"
          ]
        }
      ]
    },
    {
      "cell_type": "markdown",
      "source": [
        "# 🔹 DataFrame에 레이블 부여하기\n",
        "\n",
        "- `DataFrame.index = [...]` → 행 이름 지정  \n",
        "- `DataFrame.columns = [...]` → 열 이름 지정  \n",
        "\n",
        "👉 레이블을 부여하면 데이터 해석이 훨씬 쉬워짐"
      ],
      "metadata": {
        "id": "dUVD8FiIxPUb"
      }
    },
    {
      "cell_type": "code",
      "source": [
        "# 레이블 부여 전\n",
        "score = pd.DataFrame([[85, 96, 40, 95],\n",
        "                      [73, 69, 45, 80],\n",
        "                      [78, 50, 60, 90]])\n",
        "print(\"레이블 부여 전:\")\n",
        "print(score)\n",
        "\n",
        "# 행과 열 레이블 지정\n",
        "score.index = ['John', 'Jane', 'Tom']\n",
        "score.columns = ['KOR', 'ENG', 'MATH', 'SCI']\n",
        "\n",
        "print(\"\\n레이블 부여 후:\")\n",
        "print(score)"
      ],
      "metadata": {
        "id": "NdqrXwp8xRTp",
        "outputId": "6f5725c5-4099-471a-9165-9213c1f3bc65",
        "colab": {
          "base_uri": "https://localhost:8080/"
        }
      },
      "execution_count": null,
      "outputs": [
        {
          "output_type": "stream",
          "name": "stdout",
          "text": [
            "레이블 부여 전:\n",
            "    0   1   2   3\n",
            "0  85  96  40  95\n",
            "1  73  69  45  80\n",
            "2  78  50  60  90\n",
            "\n",
            "레이블 부여 후:\n",
            "      KOR  ENG  MATH  SCI\n",
            "John   85   96    40   95\n",
            "Jane   73   69    45   80\n",
            "Tom    78   50    60   90\n"
          ]
        }
      ]
    },
    {
      "cell_type": "markdown",
      "source": [
        "# 🔹 iloc vs loc (DataFrame)\n",
        "\n",
        "- `iloc[행번호, 열번호]` → 절대 위치 기반 접근  \n",
        "- `loc['행레이블', '열레이블']` → 레이블 기반 접근  \n",
        "\n",
        "예시:  \n",
        "- `score.iloc[2, 1]` → 2행 1열 값 (Tom의 ENG 점수)  \n",
        "- `score.loc['Tom', 'ENG']` → Tom 학생의 ENG 점수"
      ],
      "metadata": {
        "id": "4ue3TqAMxU2x"
      }
    },
    {
      "cell_type": "code",
      "source": [
        "print(score.iloc[2, 1])           # 절대 위치 접근\n",
        "print(score.loc['Tom', 'ENG'])    # 레이블 기반 접근"
      ],
      "metadata": {
        "id": "eq7-T1dGxXWo",
        "outputId": "694c131f-2a1f-4fed-cd05-16642f70c41d",
        "colab": {
          "base_uri": "https://localhost:8080/"
        }
      },
      "execution_count": null,
      "outputs": [
        {
          "output_type": "stream",
          "name": "stdout",
          "text": [
            "50\n",
            "50\n"
          ]
        }
      ]
    },
    {
      "cell_type": "markdown",
      "source": [
        "# 🔹 생각해 보기\n",
        "\n",
        "1. `age.loc['Luka']`를 실행하면 어떤 값이 나올까?  \n",
        "2. `score.loc['Jane', 'MATH']`을 실행하면 어떤 값이 출력될까?  \n",
        "3. `score.iloc[0]`만 실행하면 어떤 결과가 나올까?"
      ],
      "metadata": {
        "id": "44xQ1B-nxqWb"
      }
    },
    {
      "cell_type": "code",
      "source": [
        "print(age.loc['Luka'])"
      ],
      "metadata": {
        "id": "7eAsdL9oxzWV",
        "outputId": "6fa577d5-937c-43ac-9ef2-2b0e115ce63c",
        "colab": {
          "base_uri": "https://localhost:8080/"
        }
      },
      "execution_count": null,
      "outputs": [
        {
          "output_type": "stream",
          "name": "stdout",
          "text": [
            "45\n"
          ]
        }
      ]
    },
    {
      "cell_type": "code",
      "source": [
        "print(score.loc['Jane', 'MATH'])"
      ],
      "metadata": {
        "id": "mDE5OCOJL7Dr",
        "outputId": "92f58e44-a1e8-41ea-b2ea-8d0ca8a5d046",
        "colab": {
          "base_uri": "https://localhost:8080/"
        }
      },
      "execution_count": null,
      "outputs": [
        {
          "output_type": "stream",
          "name": "stdout",
          "text": [
            "45\n"
          ]
        }
      ]
    },
    {
      "cell_type": "code",
      "source": [
        "score.iloc[0]"
      ],
      "metadata": {
        "id": "FXQQ-i95MLWj",
        "outputId": "49cd4262-d726-4518-d06f-70c597dbb3be",
        "colab": {
          "base_uri": "https://localhost:8080/",
          "height": 209
        }
      },
      "execution_count": null,
      "outputs": [
        {
          "output_type": "execute_result",
          "data": {
            "text/plain": [
              "KOR     85\n",
              "ENG     96\n",
              "MATH    40\n",
              "SCI     95\n",
              "Name: John, dtype: int64"
            ],
            "text/html": [
              "<div>\n",
              "<style scoped>\n",
              "    .dataframe tbody tr th:only-of-type {\n",
              "        vertical-align: middle;\n",
              "    }\n",
              "\n",
              "    .dataframe tbody tr th {\n",
              "        vertical-align: top;\n",
              "    }\n",
              "\n",
              "    .dataframe thead th {\n",
              "        text-align: right;\n",
              "    }\n",
              "</style>\n",
              "<table border=\"1\" class=\"dataframe\">\n",
              "  <thead>\n",
              "    <tr style=\"text-align: right;\">\n",
              "      <th></th>\n",
              "      <th>John</th>\n",
              "    </tr>\n",
              "  </thead>\n",
              "  <tbody>\n",
              "    <tr>\n",
              "      <th>KOR</th>\n",
              "      <td>85</td>\n",
              "    </tr>\n",
              "    <tr>\n",
              "      <th>ENG</th>\n",
              "      <td>96</td>\n",
              "    </tr>\n",
              "    <tr>\n",
              "      <th>MATH</th>\n",
              "      <td>40</td>\n",
              "    </tr>\n",
              "    <tr>\n",
              "      <th>SCI</th>\n",
              "      <td>95</td>\n",
              "    </tr>\n",
              "  </tbody>\n",
              "</table>\n",
              "</div><br><label><b>dtype:</b> int64</label>"
            ]
          },
          "metadata": {},
          "execution_count": 19
        }
      ]
    },
    {
      "cell_type": "markdown",
      "source": [
        "# 🔹 중복 레이블이 있는 Series\n",
        "\n",
        "- Series의 인덱스는 꼭 고유(unique)할 필요는 없음  \n",
        "- 동일한 이름(레이블)이 여러 번 등장할 수도 있음  \n",
        "- 이 경우 `iloc`과 `loc`의 동작이 달라짐\n",
        "\n",
        "👉 주의!  \n",
        "- **iloc** → 위치 기반 → 하나의 값 반환  \n",
        "- **loc** → 이름 기반 → 같은 이름이 여러 개면 **여러 값 반환**"
      ],
      "metadata": {
        "id": "w2dz_BxkxziS"
      }
    },
    {
      "cell_type": "code",
      "source": [
        "import pandas as pd\n",
        "\n",
        "age = pd.Series([25, 34, 19, 45, 60])\n",
        "age.index = ['John', 'Jane', 'Tom', 'Micle', 'Tom']\n",
        "\n",
        "print(\"Series 내용:\")\n",
        "print(age)\n",
        "\n",
        "# 위치 기반 (iloc)\n",
        "print(\"\\nage.iloc[3] →\")\n",
        "print(age.iloc[3])\n",
        "\n",
        "# 레이블 기반 (loc)\n",
        "print(\"\\nage.loc['Tom'] →\")\n",
        "print(age.loc['Tom'])"
      ],
      "metadata": {
        "id": "-TL8E6wxyBBX",
        "outputId": "1f97134d-5845-4038-8e16-cde3a5052535",
        "colab": {
          "base_uri": "https://localhost:8080/"
        }
      },
      "execution_count": null,
      "outputs": [
        {
          "output_type": "stream",
          "name": "stdout",
          "text": [
            "Series 내용:\n",
            "John     25\n",
            "Jane     34\n",
            "Tom      19\n",
            "Micle    45\n",
            "Tom      60\n",
            "dtype: int64\n",
            "\n",
            "age.iloc[3] →\n",
            "45\n",
            "\n",
            "age.loc['Tom'] →\n",
            "Tom    19\n",
            "Tom    60\n",
            "dtype: int64\n"
          ]
        }
      ]
    },
    {
      "cell_type": "markdown",
      "source": [
        "# 🔹 결과 해석\n",
        "\n",
        "- `age.iloc[3]` → 인덱스 번호 3의 값 → \"Micle\"의 45 반환  \n",
        "- `age.loc['Tom']` → 'Tom'이라는 이름이 2번 등장 → **두 개의 값(19, 60)을 모두 반환**  \n",
        "\n",
        "👉 따라서 레이블을 중복으로 사용하면 loc에서는 여러 행이 선택될 수 있음"
      ],
      "metadata": {
        "id": "Pz8GUxczyJbU"
      }
    },
    {
      "cell_type": "markdown",
      "source": [
        "# 🔹 생각해 보기\n",
        "\n",
        "1. `age.loc['John']`을 실행하면 어떤 값이 나올까?  \n",
        "2. `age.loc['Tom'].iloc[0]`을 실행하면 어떤 결과가 나올까?  \n",
        "3. 만약 모든 인덱스를 고유하게(unique) 만들고 싶다면 어떤 방법이 있을까?  \n",
        "   (힌트: `reset_index()`, `drop_duplicates()` 등 활용)"
      ],
      "metadata": {
        "id": "jG0m9aOcyL7P"
      }
    },
    {
      "cell_type": "code",
      "source": [
        "print(age.loc['John'])"
      ],
      "metadata": {
        "id": "uHGKZ1vayRcq",
        "outputId": "8b72c5a7-f1ef-40f4-eac7-a5433f2927e8",
        "colab": {
          "base_uri": "https://localhost:8080/"
        }
      },
      "execution_count": null,
      "outputs": [
        {
          "output_type": "stream",
          "name": "stdout",
          "text": [
            "25\n"
          ]
        }
      ]
    },
    {
      "cell_type": "code",
      "source": [
        "print(age.loc['Tom'].iloc[0])"
      ],
      "metadata": {
        "id": "7302hPw4MXmH",
        "outputId": "e9194b95-62fd-4417-fa2e-3dcd93d7de84",
        "colab": {
          "base_uri": "https://localhost:8080/"
        }
      },
      "execution_count": null,
      "outputs": [
        {
          "output_type": "stream",
          "name": "stdout",
          "text": [
            "19\n"
          ]
        }
      ]
    },
    {
      "cell_type": "code",
      "source": [
        "age_unique = age.reset_index(drop=True)\n",
        "print(age_unique)"
      ],
      "metadata": {
        "id": "ELZTzPAvMjWI",
        "outputId": "f03578a8-331e-4604-ead3-bf9712f6a81b",
        "colab": {
          "base_uri": "https://localhost:8080/"
        }
      },
      "execution_count": null,
      "outputs": [
        {
          "output_type": "stream",
          "name": "stdout",
          "text": [
            "0    25\n",
            "1    34\n",
            "2    19\n",
            "3    45\n",
            "4    60\n",
            "dtype: int64\n"
          ]
        }
      ]
    },
    {
      "cell_type": "markdown",
      "source": [
        "# 🔹 숫자 레이블 지정하기\n",
        "\n",
        "- Series의 인덱스는 꼭 문자열이 아니라 **숫자**로도 지정할 수 있음  \n",
        "- 하지만 주의할 점:  \n",
        "  - `iloc[숫자]` → **위치 기반** (0부터 시작하는 순서)  \n",
        "  - `loc[숫자]` → **레이블 기반** (직접 지정한 인덱스 값)\n",
        "\n",
        "👉 따라서 숫자 레이블을 쓰면 헷갈릴 수 있음"
      ],
      "metadata": {
        "id": "0GOhECgayRxz"
      }
    },
    {
      "cell_type": "code",
      "source": [
        "import pandas as pd\n",
        "\n",
        "population = pd.Series([523, 675, 690, 720, 800])\n",
        "population.index = [10, 20, 30, 40, 50]  # 숫자 레이블 지정\n",
        "\n",
        "print(\"Series 내용:\")\n",
        "print(population)\n",
        "\n",
        "# 위치 기반 (iloc)\n",
        "print(\"\\npopulation.iloc[1] →\")\n",
        "print(population.iloc[1])\n",
        "\n",
        "# 잘못된 접근 (iloc[20] → IndexError)\n",
        "# print(population.iloc[20])  # 실행 시 에러 발생\n",
        "\n",
        "# 레이블 기반 (loc)\n",
        "print(\"\\npopulation.loc[20] →\")\n",
        "print(population.loc[20])"
      ],
      "metadata": {
        "id": "Im3S3WQfyfa1",
        "outputId": "429b16d2-61d8-41c9-fbb2-862fcedb3761",
        "colab": {
          "base_uri": "https://localhost:8080/"
        }
      },
      "execution_count": null,
      "outputs": [
        {
          "output_type": "stream",
          "name": "stdout",
          "text": [
            "Series 내용:\n",
            "10    523\n",
            "20    675\n",
            "30    690\n",
            "40    720\n",
            "50    800\n",
            "dtype: int64\n",
            "\n",
            "population.iloc[1] →\n",
            "675\n",
            "\n",
            "population.loc[20] →\n",
            "675\n"
          ]
        }
      ]
    },
    {
      "cell_type": "markdown",
      "source": [
        "# 🔹 결과 해석\n",
        "\n",
        "- `population.iloc[1]` → 위치 1의 값 → **675**  \n",
        "- `population.iloc[20]` → 없는 위치라서 **IndexError 발생**  \n",
        "- `population.loc[20]` → 레이블이 20인 값 → **675**\n",
        "\n",
        "👉 즉, 숫자를 레이블로 지정하면  \n",
        "- iloc = 단순히 순서 번호  \n",
        "- loc = 내가 지정한 숫자 (레이블)  \n",
        "로 완전히 다르게 동작"
      ],
      "metadata": {
        "id": "HaYnEr1uyjm-"
      }
    },
    {
      "cell_type": "markdown",
      "source": [
        "# 🔹 생각해 보기\n",
        "\n",
        "1. `population.loc[50]`을 실행하면 어떤 값이 나올까?\n",
        "  답변: 위치 50의 값이 출력되어야 하지만 없는 위치라서 IndexError이 발생할 것이다.\n",
        "2. `population.iloc[4]`와 `population.loc[50]`은 같은 결과를 줄까?\n",
        "  답변: population.iloc[4]는 population 레이블의 4번쨰 위치의 값이 나오고, population.loc[50]은 위치 50이 없는 위치이기 때문에 IndexError이 발생해 다른 결과가 나타난다.\n",
        "3. 인덱스가 숫자라 헷갈릴 수 있는데, 만약 'A', 'B', 'C', ...와 같은 문자 레이블로 바꾼다면 접근은 어떻게 달라질까?\n",
        "  답변: 인덱스를 문자로 바꾸면 iloc는 여전히 정수 위치를 사용하고, loc는 바뀐 문자 레이블만 사용하여 데이터에 접근할 것이다."
      ],
      "metadata": {
        "id": "WRLEEVLdyk4R"
      }
    },
    {
      "cell_type": "code",
      "source": [
        "population.index = [\"A\", \"B\", \"C\", \"D\", \"E\"]  # 숫자 레이블 지정\n",
        "print(population)"
      ],
      "metadata": {
        "id": "6wfg3tgqyoGk",
        "outputId": "55ec0496-b0da-44e3-f66b-9fc5e870415d",
        "colab": {
          "base_uri": "https://localhost:8080/"
        }
      },
      "execution_count": null,
      "outputs": [
        {
          "output_type": "stream",
          "name": "stdout",
          "text": [
            "A    523\n",
            "B    675\n",
            "C    690\n",
            "D    720\n",
            "E    800\n",
            "dtype: int64\n"
          ]
        }
      ]
    }
  ]
}